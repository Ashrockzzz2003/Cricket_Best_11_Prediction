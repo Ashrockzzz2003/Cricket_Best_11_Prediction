{
 "cells": [
  {
   "cell_type": "code",
   "execution_count": 1,
   "metadata": {},
   "outputs": [],
   "source": [
    "import pandas as pd\n",
    "import pandas as pd\n",
    "from requests import get\n",
    "from bs4 import BeautifulSoup"
   ]
  },
  {
   "cell_type": "code",
   "execution_count": 2,
   "metadata": {},
   "outputs": [
    {
     "data": {
      "text/html": [
       "<div>\n",
       "<style scoped>\n",
       "    .dataframe tbody tr th:only-of-type {\n",
       "        vertical-align: middle;\n",
       "    }\n",
       "\n",
       "    .dataframe tbody tr th {\n",
       "        vertical-align: top;\n",
       "    }\n",
       "\n",
       "    .dataframe thead th {\n",
       "        text-align: right;\n",
       "    }\n",
       "</style>\n",
       "<table border=\"1\" class=\"dataframe\">\n",
       "  <thead>\n",
       "    <tr style=\"text-align: right;\">\n",
       "      <th></th>\n",
       "      <th>team_name</th>\n",
       "      <th>player_name</th>\n",
       "      <th>player_id</th>\n",
       "    </tr>\n",
       "  </thead>\n",
       "  <tbody>\n",
       "    <tr>\n",
       "      <th>0</th>\n",
       "      <td>Afghanistan</td>\n",
       "      <td>Hashmatullah Shahidi</td>\n",
       "      <td>440970</td>\n",
       "    </tr>\n",
       "    <tr>\n",
       "      <th>1</th>\n",
       "      <td>Afghanistan</td>\n",
       "      <td>Rahmanullah Gurbaz</td>\n",
       "      <td>974087</td>\n",
       "    </tr>\n",
       "    <tr>\n",
       "      <th>2</th>\n",
       "      <td>Afghanistan</td>\n",
       "      <td>Ibrahim Zadran</td>\n",
       "      <td>921509</td>\n",
       "    </tr>\n",
       "    <tr>\n",
       "      <th>3</th>\n",
       "      <td>Afghanistan</td>\n",
       "      <td>Reyaz Hassan</td>\n",
       "      <td>1061090</td>\n",
       "    </tr>\n",
       "    <tr>\n",
       "      <th>4</th>\n",
       "      <td>Afghanistan</td>\n",
       "      <td>Rahmat Shah Zurmati</td>\n",
       "      <td>533956</td>\n",
       "    </tr>\n",
       "    <tr>\n",
       "      <th>...</th>\n",
       "      <td>...</td>\n",
       "      <td>...</td>\n",
       "      <td>...</td>\n",
       "    </tr>\n",
       "    <tr>\n",
       "      <th>145</th>\n",
       "      <td>Sri Lanka</td>\n",
       "      <td>Dunith Wellalage</td>\n",
       "      <td>1152427</td>\n",
       "    </tr>\n",
       "    <tr>\n",
       "      <th>146</th>\n",
       "      <td>Sri Lanka</td>\n",
       "      <td>Kasun Rajitha</td>\n",
       "      <td>499594</td>\n",
       "    </tr>\n",
       "    <tr>\n",
       "      <th>147</th>\n",
       "      <td>Sri Lanka</td>\n",
       "      <td>Matheesha Pathirana</td>\n",
       "      <td>1194795</td>\n",
       "    </tr>\n",
       "    <tr>\n",
       "      <th>148</th>\n",
       "      <td>Sri Lanka</td>\n",
       "      <td>Lahiru Kumara</td>\n",
       "      <td>784375</td>\n",
       "    </tr>\n",
       "    <tr>\n",
       "      <th>149</th>\n",
       "      <td>Sri Lanka</td>\n",
       "      <td>Dilshan Madushanka</td>\n",
       "      <td>793007</td>\n",
       "    </tr>\n",
       "  </tbody>\n",
       "</table>\n",
       "<p>150 rows × 3 columns</p>\n",
       "</div>"
      ],
      "text/plain": [
       "       team_name           player_name  player_id\n",
       "0    Afghanistan  Hashmatullah Shahidi     440970\n",
       "1    Afghanistan    Rahmanullah Gurbaz     974087\n",
       "2    Afghanistan        Ibrahim Zadran     921509\n",
       "3    Afghanistan          Reyaz Hassan    1061090\n",
       "4    Afghanistan   Rahmat Shah Zurmati     533956\n",
       "..           ...                   ...        ...\n",
       "145    Sri Lanka      Dunith Wellalage    1152427\n",
       "146    Sri Lanka         Kasun Rajitha     499594\n",
       "147    Sri Lanka   Matheesha Pathirana    1194795\n",
       "148    Sri Lanka         Lahiru Kumara     784375\n",
       "149    Sri Lanka    Dilshan Madushanka     793007\n",
       "\n",
       "[150 rows x 3 columns]"
      ]
     },
     "execution_count": 2,
     "metadata": {},
     "output_type": "execute_result"
    }
   ],
   "source": [
    "player_data = pd.read_csv(\"player_team_name_id.csv\")\n",
    "player_data"
   ]
  },
  {
   "cell_type": "code",
   "execution_count": 3,
   "metadata": {},
   "outputs": [
    {
     "data": {
      "text/plain": [
       "team_name      0\n",
       "player_name    0\n",
       "player_id      0\n",
       "dtype: int64"
      ]
     },
     "execution_count": 3,
     "metadata": {},
     "output_type": "execute_result"
    }
   ],
   "source": [
    "player_data.isnull().sum()"
   ]
  },
  {
   "cell_type": "markdown",
   "metadata": {},
   "source": [
    "# Extract Performance Data\n",
    "\n",
    "1. Batting: `https://stats.espncricinfo.com/ci/engine/player/<:playerID>.html?class=2;template=results;type=batting;view=match`\n",
    "2. Bowling: `https://stats.espncricinfo.com/ci/engine/player/<:playerID>.html?class=2;template=results;type=bowling;view=match`\n",
    "3. AllRound: `https://stats.espncricinfo.com/ci/engine/player/<:playerID>.html?class=2;template=results;type=allround;view=match`\n"
   ]
  },
  {
   "cell_type": "markdown",
   "metadata": {},
   "source": [
    "## Extracting Player Role\n",
    "\n",
    "This step is to make the right query and extract the data."
   ]
  },
  {
   "cell_type": "code",
   "execution_count": 23,
   "metadata": {},
   "outputs": [],
   "source": [
    "# 253802, Virat Kohli\n",
    "\n",
    "def find_player_role(player_id):\n",
    "    try:\n",
    "        fetch_result = get(f\"https://stats.espncricinfo.com/ci/engine/player/{player_id}.html?class=2;type=allround\")\n",
    "\n",
    "        soup = BeautifulSoup(fetch_result.text, 'html.parser')\n",
    "\n",
    "        # Select first p tag in ciPhotoContainer class\n",
    "        player_name = soup.select(\".ciPhotoContainer p\")[0].contents[1].text.strip().replace(\" \", \"-\").lower()\n",
    "\n",
    "        fetch_result = get(f\"https://www.espncricinfo.com/cricketers/{player_name}-{player_id}\")\n",
    "        soup = BeautifulSoup(fetch_result.text, 'html.parser')\n",
    "\n",
    "        # Find all a tags that point to https://www.espncricinfo.com/cricketers/compare/{player_name}-{player_id}\n",
    "\n",
    "        player_role = \"\"\n",
    "        aList = soup.find_all(\"a\", href=f\"/cricketers/compare/{player_name}-{player_id}\")\n",
    "\n",
    "        for a in aList:\n",
    "            parent_div = a.parent.parent\n",
    "            player_role = parent_div.contents[2].text.strip()\n",
    "        \n",
    "        return player_role\n",
    "    except:\n",
    "        return None\n",
    "\n",
    "player_data[\"player_role\"] = player_data[\"player_id\"].apply(find_player_role)"
   ]
  },
  {
   "cell_type": "code",
   "execution_count": 25,
   "metadata": {},
   "outputs": [
    {
     "data": {
      "text/plain": [
       "team_name      0\n",
       "player_name    0\n",
       "player_id      0\n",
       "player_role    1\n",
       "dtype: int64"
      ]
     },
     "execution_count": 25,
     "metadata": {},
     "output_type": "execute_result"
    }
   ],
   "source": [
    "player_data.isnull().sum()"
   ]
  },
  {
   "cell_type": "code",
   "execution_count": 27,
   "metadata": {},
   "outputs": [
    {
     "data": {
      "text/html": [
       "<div>\n",
       "<style scoped>\n",
       "    .dataframe tbody tr th:only-of-type {\n",
       "        vertical-align: middle;\n",
       "    }\n",
       "\n",
       "    .dataframe tbody tr th {\n",
       "        vertical-align: top;\n",
       "    }\n",
       "\n",
       "    .dataframe thead th {\n",
       "        text-align: right;\n",
       "    }\n",
       "</style>\n",
       "<table border=\"1\" class=\"dataframe\">\n",
       "  <thead>\n",
       "    <tr style=\"text-align: right;\">\n",
       "      <th></th>\n",
       "      <th>team_name</th>\n",
       "      <th>player_name</th>\n",
       "      <th>player_id</th>\n",
       "      <th>player_role</th>\n",
       "    </tr>\n",
       "  </thead>\n",
       "  <tbody>\n",
       "    <tr>\n",
       "      <th>78</th>\n",
       "      <td>Netherlands</td>\n",
       "      <td>Vikram Singh</td>\n",
       "      <td>35281</td>\n",
       "      <td>None</td>\n",
       "    </tr>\n",
       "  </tbody>\n",
       "</table>\n",
       "</div>"
      ],
      "text/plain": [
       "      team_name   player_name  player_id player_role\n",
       "78  Netherlands  Vikram Singh      35281        None"
      ]
     },
     "execution_count": 27,
     "metadata": {},
     "output_type": "execute_result"
    }
   ],
   "source": [
    "# print the player_data[\"player_role\"] that's null\n",
    "\n",
    "player_data[player_data[\"player_role\"].isnull()]"
   ]
  },
  {
   "cell_type": "code",
   "execution_count": 37,
   "metadata": {},
   "outputs": [],
   "source": [
    "# Set player_role as \"Opening Batter\" where player_id = 35281\n",
    "\n",
    "player_data.loc[player_data[\"player_id\"] == 35281, \"player_role\"] = \"Opening Batter\""
   ]
  },
  {
   "cell_type": "code",
   "execution_count": 38,
   "metadata": {},
   "outputs": [
    {
     "data": {
      "text/plain": [
       "team_name      0\n",
       "player_name    0\n",
       "player_id      0\n",
       "player_role    0\n",
       "dtype: int64"
      ]
     },
     "execution_count": 38,
     "metadata": {},
     "output_type": "execute_result"
    }
   ],
   "source": [
    "player_data.isnull().sum()"
   ]
  },
  {
   "cell_type": "code",
   "execution_count": 39,
   "metadata": {},
   "outputs": [
    {
     "data": {
      "text/plain": [
       "Bowler                 50\n",
       "Allrounder             22\n",
       "Wicketkeeper Batter    20\n",
       "Top order Batter       14\n",
       "Batting Allrounder     11\n",
       "Opening Batter         10\n",
       "Bowling Allrounder     10\n",
       "Batter                  6\n",
       "Middle order Batter     6\n",
       "                        1\n",
       "Name: player_role, dtype: int64"
      ]
     },
     "execution_count": 39,
     "metadata": {},
     "output_type": "execute_result"
    }
   ],
   "source": [
    "player_data[\"player_role\"].value_counts()"
   ]
  },
  {
   "cell_type": "code",
   "execution_count": null,
   "metadata": {},
   "outputs": [],
   "source": [
    "player_data.to_csv(\"player_{team_name_id_role}.csv\", index=False)"
   ]
  }
 ],
 "metadata": {
  "kernelspec": {
   "display_name": "base",
   "language": "python",
   "name": "python3"
  },
  "language_info": {
   "codemirror_mode": {
    "name": "ipython",
    "version": 3
   },
   "file_extension": ".py",
   "mimetype": "text/x-python",
   "name": "python",
   "nbconvert_exporter": "python",
   "pygments_lexer": "ipython3",
   "version": "3.10.11"
  }
 },
 "nbformat": 4,
 "nbformat_minor": 2
}
