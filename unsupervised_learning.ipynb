{
 "cells": [
  {
   "cell_type": "markdown",
   "metadata": {},
   "source": [
    "19CSE305 Machine Learning - Project Review 2\n",
    "\t\t\t \n",
    "Implementation (6 marks): \n",
    "Probabilistic model, Unsupervised model, Ensemble model, Dimensionality reduction \n",
    "\n",
    "Analysis   (6 marks):  \n",
    "\n",
    "visualization, hyperparameter tuning, error, loss curves, performance metrics  \n",
    "\n",
    "\"Presentation     (3 marks)\" \n",
    "\n",
    "\"Total (15 marks)\""
   ]
  },
  {
   "cell_type": "code",
   "execution_count": null,
   "metadata": {},
   "outputs": [],
   "source": []
  }
 ],
 "metadata": {
  "language_info": {
   "name": "python"
  }
 },
 "nbformat": 4,
 "nbformat_minor": 2
}
